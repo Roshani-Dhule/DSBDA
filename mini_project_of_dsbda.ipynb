{
  "nbformat": 4,
  "nbformat_minor": 0,
  "metadata": {
    "colab": {
      "provenance": [],
      "authorship_tag": "ABX9TyPpqrlQGojLiG1T4zlDHzpZ",
      "include_colab_link": true
    },
    "kernelspec": {
      "name": "python3",
      "display_name": "Python 3"
    },
    "language_info": {
      "name": "python"
    },
    "widgets": {
      "application/vnd.jupyter.widget-state+json": {
        "2452fa0ec69b4f988c93e71e0e025057": {
          "model_module": "@jupyter-widgets/controls",
          "model_name": "TextModel",
          "model_module_version": "1.5.0",
          "state": {
            "_dom_classes": [],
            "_model_module": "@jupyter-widgets/controls",
            "_model_module_version": "1.5.0",
            "_model_name": "TextModel",
            "_view_count": null,
            "_view_module": "@jupyter-widgets/controls",
            "_view_module_version": "1.5.0",
            "_view_name": "TextView",
            "continuous_update": true,
            "description": "Movie Title:",
            "description_tooltip": null,
            "disabled": false,
            "layout": "IPY_MODEL_6d5785384d7b422089858c7632dfa97c",
            "placeholder": "​",
            "style": "IPY_MODEL_bbb4fa7bad814c98a1639cec2145b141",
            "value": "Jumanji"
          }
        },
        "6d5785384d7b422089858c7632dfa97c": {
          "model_module": "@jupyter-widgets/base",
          "model_name": "LayoutModel",
          "model_module_version": "1.2.0",
          "state": {
            "_model_module": "@jupyter-widgets/base",
            "_model_module_version": "1.2.0",
            "_model_name": "LayoutModel",
            "_view_count": null,
            "_view_module": "@jupyter-widgets/base",
            "_view_module_version": "1.2.0",
            "_view_name": "LayoutView",
            "align_content": null,
            "align_items": null,
            "align_self": null,
            "border": null,
            "bottom": null,
            "display": null,
            "flex": null,
            "flex_flow": null,
            "grid_area": null,
            "grid_auto_columns": null,
            "grid_auto_flow": null,
            "grid_auto_rows": null,
            "grid_column": null,
            "grid_gap": null,
            "grid_row": null,
            "grid_template_areas": null,
            "grid_template_columns": null,
            "grid_template_rows": null,
            "height": null,
            "justify_content": null,
            "justify_items": null,
            "left": null,
            "margin": null,
            "max_height": null,
            "max_width": null,
            "min_height": null,
            "min_width": null,
            "object_fit": null,
            "object_position": null,
            "order": null,
            "overflow": null,
            "overflow_x": null,
            "overflow_y": null,
            "padding": null,
            "right": null,
            "top": null,
            "visibility": null,
            "width": null
          }
        },
        "bbb4fa7bad814c98a1639cec2145b141": {
          "model_module": "@jupyter-widgets/controls",
          "model_name": "DescriptionStyleModel",
          "model_module_version": "1.5.0",
          "state": {
            "_model_module": "@jupyter-widgets/controls",
            "_model_module_version": "1.5.0",
            "_model_name": "DescriptionStyleModel",
            "_view_count": null,
            "_view_module": "@jupyter-widgets/base",
            "_view_module_version": "1.2.0",
            "_view_name": "StyleView",
            "description_width": ""
          }
        },
        "177e8f5234594659a2944c49362b6843": {
          "model_module": "@jupyter-widgets/output",
          "model_name": "OutputModel",
          "model_module_version": "1.0.0",
          "state": {
            "_dom_classes": [],
            "_model_module": "@jupyter-widgets/output",
            "_model_module_version": "1.0.0",
            "_model_name": "OutputModel",
            "_view_count": null,
            "_view_module": "@jupyter-widgets/output",
            "_view_module_version": "1.0.0",
            "_view_name": "OutputView",
            "layout": "IPY_MODEL_203321de0e4748d7ae2c56278d51cd83",
            "msg_id": "",
            "outputs": []
          }
        },
        "203321de0e4748d7ae2c56278d51cd83": {
          "model_module": "@jupyter-widgets/base",
          "model_name": "LayoutModel",
          "model_module_version": "1.2.0",
          "state": {
            "_model_module": "@jupyter-widgets/base",
            "_model_module_version": "1.2.0",
            "_model_name": "LayoutModel",
            "_view_count": null,
            "_view_module": "@jupyter-widgets/base",
            "_view_module_version": "1.2.0",
            "_view_name": "LayoutView",
            "align_content": null,
            "align_items": null,
            "align_self": null,
            "border": null,
            "bottom": null,
            "display": null,
            "flex": null,
            "flex_flow": null,
            "grid_area": null,
            "grid_auto_columns": null,
            "grid_auto_flow": null,
            "grid_auto_rows": null,
            "grid_column": null,
            "grid_gap": null,
            "grid_row": null,
            "grid_template_areas": null,
            "grid_template_columns": null,
            "grid_template_rows": null,
            "height": null,
            "justify_content": null,
            "justify_items": null,
            "left": null,
            "margin": null,
            "max_height": null,
            "max_width": null,
            "min_height": null,
            "min_width": null,
            "object_fit": null,
            "object_position": null,
            "order": null,
            "overflow": null,
            "overflow_x": null,
            "overflow_y": null,
            "padding": null,
            "right": null,
            "top": null,
            "visibility": null,
            "width": null
          }
        },
        "4669302635dd4fad881f54296ed3b561": {
          "model_module": "@jupyter-widgets/controls",
          "model_name": "TextModel",
          "model_module_version": "1.5.0",
          "state": {
            "_dom_classes": [],
            "_model_module": "@jupyter-widgets/controls",
            "_model_module_version": "1.5.0",
            "_model_name": "TextModel",
            "_view_count": null,
            "_view_module": "@jupyter-widgets/controls",
            "_view_module_version": "1.5.0",
            "_view_name": "TextView",
            "continuous_update": true,
            "description": "Movie Title:",
            "description_tooltip": null,
            "disabled": false,
            "layout": "IPY_MODEL_986769552f5342e8abfc7ecb9a69a173",
            "placeholder": "​",
            "style": "IPY_MODEL_6f235cfbc4ae4f099310f281965a2aca",
            "value": "iron man"
          }
        },
        "986769552f5342e8abfc7ecb9a69a173": {
          "model_module": "@jupyter-widgets/base",
          "model_name": "LayoutModel",
          "model_module_version": "1.2.0",
          "state": {
            "_model_module": "@jupyter-widgets/base",
            "_model_module_version": "1.2.0",
            "_model_name": "LayoutModel",
            "_view_count": null,
            "_view_module": "@jupyter-widgets/base",
            "_view_module_version": "1.2.0",
            "_view_name": "LayoutView",
            "align_content": null,
            "align_items": null,
            "align_self": null,
            "border": null,
            "bottom": null,
            "display": null,
            "flex": null,
            "flex_flow": null,
            "grid_area": null,
            "grid_auto_columns": null,
            "grid_auto_flow": null,
            "grid_auto_rows": null,
            "grid_column": null,
            "grid_gap": null,
            "grid_row": null,
            "grid_template_areas": null,
            "grid_template_columns": null,
            "grid_template_rows": null,
            "height": null,
            "justify_content": null,
            "justify_items": null,
            "left": null,
            "margin": null,
            "max_height": null,
            "max_width": null,
            "min_height": null,
            "min_width": null,
            "object_fit": null,
            "object_position": null,
            "order": null,
            "overflow": null,
            "overflow_x": null,
            "overflow_y": null,
            "padding": null,
            "right": null,
            "top": null,
            "visibility": null,
            "width": null
          }
        },
        "6f235cfbc4ae4f099310f281965a2aca": {
          "model_module": "@jupyter-widgets/controls",
          "model_name": "DescriptionStyleModel",
          "model_module_version": "1.5.0",
          "state": {
            "_model_module": "@jupyter-widgets/controls",
            "_model_module_version": "1.5.0",
            "_model_name": "DescriptionStyleModel",
            "_view_count": null,
            "_view_module": "@jupyter-widgets/base",
            "_view_module_version": "1.2.0",
            "_view_name": "StyleView",
            "description_width": ""
          }
        },
        "97326311f497485a822b51182fe9f106": {
          "model_module": "@jupyter-widgets/output",
          "model_name": "OutputModel",
          "model_module_version": "1.0.0",
          "state": {
            "_dom_classes": [],
            "_model_module": "@jupyter-widgets/output",
            "_model_module_version": "1.0.0",
            "_model_name": "OutputModel",
            "_view_count": null,
            "_view_module": "@jupyter-widgets/output",
            "_view_module_version": "1.0.0",
            "_view_name": "OutputView",
            "layout": "IPY_MODEL_e08d061ad77c4d189c05657086d96493",
            "msg_id": "",
            "outputs": [
              {
                "output_type": "display_data",
                "data": {
                  "text/plain": "           score                                             title  \\\n14628  62.071429                                 Iron Man 2 (2010)   \n6427   62.071429                             Johnny English (2003)   \n8092   62.071429        Harold and Kumar Go to White Castle (2004)   \n6044   62.071429                           Shanghai Knights (2003)   \n12347  62.071429  Chronicles of Narnia: Prince Caspian, The (2008)   \n14940  62.071429                 Sorcerer's Apprentice, The (2010)   \n18512  62.071429                                      V/H/S (2012)   \n16575  62.071429                              Green Lantern (2011)   \n21666  62.071429                                 Maleficent (2014)   \n28418  62.071429                      Shaun the Sheep Movie (2015)   \n\n                                         genres  \n14628     Action|Adventure|Sci-Fi|Thriller|IMAX  \n6427                     Action|Comedy|Thriller  \n8092                           Adventure|Comedy  \n6044                    Action|Adventure|Comedy  \n12347                Adventure|Children|Fantasy  \n14940  Action|Adventure|Children|Comedy|Fantasy  \n18512                           Horror|Thriller  \n16575                   Action|Adventure|Sci-Fi  \n21666            Action|Adventure|Children|IMAX  \n28418       Adventure|Animation|Children|Comedy  ",
                  "text/html": "\n  <div id=\"df-c3707805-48c9-431b-9ea2-ae274e4fb54e\">\n    <div class=\"colab-df-container\">\n      <div>\n<style scoped>\n    .dataframe tbody tr th:only-of-type {\n        vertical-align: middle;\n    }\n\n    .dataframe tbody tr th {\n        vertical-align: top;\n    }\n\n    .dataframe thead th {\n        text-align: right;\n    }\n</style>\n<table border=\"1\" class=\"dataframe\">\n  <thead>\n    <tr style=\"text-align: right;\">\n      <th></th>\n      <th>score</th>\n      <th>title</th>\n      <th>genres</th>\n    </tr>\n  </thead>\n  <tbody>\n    <tr>\n      <th>14628</th>\n      <td>62.071429</td>\n      <td>Iron Man 2 (2010)</td>\n      <td>Action|Adventure|Sci-Fi|Thriller|IMAX</td>\n    </tr>\n    <tr>\n      <th>6427</th>\n      <td>62.071429</td>\n      <td>Johnny English (2003)</td>\n      <td>Action|Comedy|Thriller</td>\n    </tr>\n    <tr>\n      <th>8092</th>\n      <td>62.071429</td>\n      <td>Harold and Kumar Go to White Castle (2004)</td>\n      <td>Adventure|Comedy</td>\n    </tr>\n    <tr>\n      <th>6044</th>\n      <td>62.071429</td>\n      <td>Shanghai Knights (2003)</td>\n      <td>Action|Adventure|Comedy</td>\n    </tr>\n    <tr>\n      <th>12347</th>\n      <td>62.071429</td>\n      <td>Chronicles of Narnia: Prince Caspian, The (2008)</td>\n      <td>Adventure|Children|Fantasy</td>\n    </tr>\n    <tr>\n      <th>14940</th>\n      <td>62.071429</td>\n      <td>Sorcerer's Apprentice, The (2010)</td>\n      <td>Action|Adventure|Children|Comedy|Fantasy</td>\n    </tr>\n    <tr>\n      <th>18512</th>\n      <td>62.071429</td>\n      <td>V/H/S (2012)</td>\n      <td>Horror|Thriller</td>\n    </tr>\n    <tr>\n      <th>16575</th>\n      <td>62.071429</td>\n      <td>Green Lantern (2011)</td>\n      <td>Action|Adventure|Sci-Fi</td>\n    </tr>\n    <tr>\n      <th>21666</th>\n      <td>62.071429</td>\n      <td>Maleficent (2014)</td>\n      <td>Action|Adventure|Children|IMAX</td>\n    </tr>\n    <tr>\n      <th>28418</th>\n      <td>62.071429</td>\n      <td>Shaun the Sheep Movie (2015)</td>\n      <td>Adventure|Animation|Children|Comedy</td>\n    </tr>\n  </tbody>\n</table>\n</div>\n      <button class=\"colab-df-convert\" onclick=\"convertToInteractive('df-c3707805-48c9-431b-9ea2-ae274e4fb54e')\"\n              title=\"Convert this dataframe to an interactive table.\"\n              style=\"display:none;\">\n        \n  <svg xmlns=\"http://www.w3.org/2000/svg\" height=\"24px\"viewBox=\"0 0 24 24\"\n       width=\"24px\">\n    <path d=\"M0 0h24v24H0V0z\" fill=\"none\"/>\n    <path d=\"M18.56 5.44l.94 2.06.94-2.06 2.06-.94-2.06-.94-.94-2.06-.94 2.06-2.06.94zm-11 1L8.5 8.5l.94-2.06 2.06-.94-2.06-.94L8.5 2.5l-.94 2.06-2.06.94zm10 10l.94 2.06.94-2.06 2.06-.94-2.06-.94-.94-2.06-.94 2.06-2.06.94z\"/><path d=\"M17.41 7.96l-1.37-1.37c-.4-.4-.92-.59-1.43-.59-.52 0-1.04.2-1.43.59L10.3 9.45l-7.72 7.72c-.78.78-.78 2.05 0 2.83L4 21.41c.39.39.9.59 1.41.59.51 0 1.02-.2 1.41-.59l7.78-7.78 2.81-2.81c.8-.78.8-2.07 0-2.86zM5.41 20L4 18.59l7.72-7.72 1.47 1.35L5.41 20z\"/>\n  </svg>\n      </button>\n      \n  <style>\n    .colab-df-container {\n      display:flex;\n      flex-wrap:wrap;\n      gap: 12px;\n    }\n\n    .colab-df-convert {\n      background-color: #E8F0FE;\n      border: none;\n      border-radius: 50%;\n      cursor: pointer;\n      display: none;\n      fill: #1967D2;\n      height: 32px;\n      padding: 0 0 0 0;\n      width: 32px;\n    }\n\n    .colab-df-convert:hover {\n      background-color: #E2EBFA;\n      box-shadow: 0px 1px 2px rgba(60, 64, 67, 0.3), 0px 1px 3px 1px rgba(60, 64, 67, 0.15);\n      fill: #174EA6;\n    }\n\n    [theme=dark] .colab-df-convert {\n      background-color: #3B4455;\n      fill: #D2E3FC;\n    }\n\n    [theme=dark] .colab-df-convert:hover {\n      background-color: #434B5C;\n      box-shadow: 0px 1px 3px 1px rgba(0, 0, 0, 0.15);\n      filter: drop-shadow(0px 1px 2px rgba(0, 0, 0, 0.3));\n      fill: #FFFFFF;\n    }\n  </style>\n\n      <script>\n        const buttonEl =\n          document.querySelector('#df-c3707805-48c9-431b-9ea2-ae274e4fb54e button.colab-df-convert');\n        buttonEl.style.display =\n          google.colab.kernel.accessAllowed ? 'block' : 'none';\n\n        async function convertToInteractive(key) {\n          const element = document.querySelector('#df-c3707805-48c9-431b-9ea2-ae274e4fb54e');\n          const dataTable =\n            await google.colab.kernel.invokeFunction('convertToInteractive',\n                                                     [key], {});\n          if (!dataTable) return;\n\n          const docLinkHtml = 'Like what you see? Visit the ' +\n            '<a target=\"_blank\" href=https://colab.research.google.com/notebooks/data_table.ipynb>data table notebook</a>'\n            + ' to learn more about interactive tables.';\n          element.innerHTML = '';\n          dataTable['output_type'] = 'display_data';\n          await google.colab.output.renderOutput(dataTable, element);\n          const docLink = document.createElement('div');\n          docLink.innerHTML = docLinkHtml;\n          element.appendChild(docLink);\n        }\n      </script>\n    </div>\n  </div>\n  "
                },
                "metadata": {}
              }
            ]
          }
        },
        "e08d061ad77c4d189c05657086d96493": {
          "model_module": "@jupyter-widgets/base",
          "model_name": "LayoutModel",
          "model_module_version": "1.2.0",
          "state": {
            "_model_module": "@jupyter-widgets/base",
            "_model_module_version": "1.2.0",
            "_model_name": "LayoutModel",
            "_view_count": null,
            "_view_module": "@jupyter-widgets/base",
            "_view_module_version": "1.2.0",
            "_view_name": "LayoutView",
            "align_content": null,
            "align_items": null,
            "align_self": null,
            "border": null,
            "bottom": null,
            "display": null,
            "flex": null,
            "flex_flow": null,
            "grid_area": null,
            "grid_auto_columns": null,
            "grid_auto_flow": null,
            "grid_auto_rows": null,
            "grid_column": null,
            "grid_gap": null,
            "grid_row": null,
            "grid_template_areas": null,
            "grid_template_columns": null,
            "grid_template_rows": null,
            "height": null,
            "justify_content": null,
            "justify_items": null,
            "left": null,
            "margin": null,
            "max_height": null,
            "max_width": null,
            "min_height": null,
            "min_width": null,
            "object_fit": null,
            "object_position": null,
            "order": null,
            "overflow": null,
            "overflow_x": null,
            "overflow_y": null,
            "padding": null,
            "right": null,
            "top": null,
            "visibility": null,
            "width": null
          }
        }
      }
    }
  },
  "cells": [
    {
      "cell_type": "markdown",
      "metadata": {
        "id": "view-in-github",
        "colab_type": "text"
      },
      "source": [
        "<a href=\"https://colab.research.google.com/github/Roshani-Dhule/DSBDA/blob/main/mini_project_of_dsbda.ipynb\" target=\"_parent\"><img src=\"https://colab.research.google.com/assets/colab-badge.svg\" alt=\"Open In Colab\"/></a>"
      ]
    },
    {
      "cell_type": "code",
      "execution_count": 2,
      "metadata": {
        "id": "fNvs0y1-PC51"
      },
      "outputs": [],
      "source": [
        "import pandas as pd\n",
        "\n",
        "# https://files.grouplens.org/datasets/movielens/ml-25m.zip\n",
        "movies = pd.read_csv(\"/content/movies.csv\")"
      ]
    },
    {
      "cell_type": "code",
      "source": [
        "movies.head()"
      ],
      "metadata": {
        "colab": {
          "base_uri": "https://localhost:8080/",
          "height": 206
        },
        "id": "s5OlPN8kbigw",
        "outputId": "3e4630ff-b3d2-41a1-f231-0fd096ff8882"
      },
      "execution_count": 3,
      "outputs": [
        {
          "output_type": "execute_result",
          "data": {
            "text/plain": [
              "   movieId                               title  \\\n",
              "0        1                    Toy Story (1995)   \n",
              "1        2                      Jumanji (1995)   \n",
              "2        3             Grumpier Old Men (1995)   \n",
              "3        4            Waiting to Exhale (1995)   \n",
              "4        5  Father of the Bride Part II (1995)   \n",
              "\n",
              "                                        genres  \n",
              "0  Adventure|Animation|Children|Comedy|Fantasy  \n",
              "1                   Adventure|Children|Fantasy  \n",
              "2                               Comedy|Romance  \n",
              "3                         Comedy|Drama|Romance  \n",
              "4                                       Comedy  "
            ],
            "text/html": [
              "\n",
              "  <div id=\"df-f6e1d7c1-d811-4871-8532-0293887be52c\">\n",
              "    <div class=\"colab-df-container\">\n",
              "      <div>\n",
              "<style scoped>\n",
              "    .dataframe tbody tr th:only-of-type {\n",
              "        vertical-align: middle;\n",
              "    }\n",
              "\n",
              "    .dataframe tbody tr th {\n",
              "        vertical-align: top;\n",
              "    }\n",
              "\n",
              "    .dataframe thead th {\n",
              "        text-align: right;\n",
              "    }\n",
              "</style>\n",
              "<table border=\"1\" class=\"dataframe\">\n",
              "  <thead>\n",
              "    <tr style=\"text-align: right;\">\n",
              "      <th></th>\n",
              "      <th>movieId</th>\n",
              "      <th>title</th>\n",
              "      <th>genres</th>\n",
              "    </tr>\n",
              "  </thead>\n",
              "  <tbody>\n",
              "    <tr>\n",
              "      <th>0</th>\n",
              "      <td>1</td>\n",
              "      <td>Toy Story (1995)</td>\n",
              "      <td>Adventure|Animation|Children|Comedy|Fantasy</td>\n",
              "    </tr>\n",
              "    <tr>\n",
              "      <th>1</th>\n",
              "      <td>2</td>\n",
              "      <td>Jumanji (1995)</td>\n",
              "      <td>Adventure|Children|Fantasy</td>\n",
              "    </tr>\n",
              "    <tr>\n",
              "      <th>2</th>\n",
              "      <td>3</td>\n",
              "      <td>Grumpier Old Men (1995)</td>\n",
              "      <td>Comedy|Romance</td>\n",
              "    </tr>\n",
              "    <tr>\n",
              "      <th>3</th>\n",
              "      <td>4</td>\n",
              "      <td>Waiting to Exhale (1995)</td>\n",
              "      <td>Comedy|Drama|Romance</td>\n",
              "    </tr>\n",
              "    <tr>\n",
              "      <th>4</th>\n",
              "      <td>5</td>\n",
              "      <td>Father of the Bride Part II (1995)</td>\n",
              "      <td>Comedy</td>\n",
              "    </tr>\n",
              "  </tbody>\n",
              "</table>\n",
              "</div>\n",
              "      <button class=\"colab-df-convert\" onclick=\"convertToInteractive('df-f6e1d7c1-d811-4871-8532-0293887be52c')\"\n",
              "              title=\"Convert this dataframe to an interactive table.\"\n",
              "              style=\"display:none;\">\n",
              "        \n",
              "  <svg xmlns=\"http://www.w3.org/2000/svg\" height=\"24px\"viewBox=\"0 0 24 24\"\n",
              "       width=\"24px\">\n",
              "    <path d=\"M0 0h24v24H0V0z\" fill=\"none\"/>\n",
              "    <path d=\"M18.56 5.44l.94 2.06.94-2.06 2.06-.94-2.06-.94-.94-2.06-.94 2.06-2.06.94zm-11 1L8.5 8.5l.94-2.06 2.06-.94-2.06-.94L8.5 2.5l-.94 2.06-2.06.94zm10 10l.94 2.06.94-2.06 2.06-.94-2.06-.94-.94-2.06-.94 2.06-2.06.94z\"/><path d=\"M17.41 7.96l-1.37-1.37c-.4-.4-.92-.59-1.43-.59-.52 0-1.04.2-1.43.59L10.3 9.45l-7.72 7.72c-.78.78-.78 2.05 0 2.83L4 21.41c.39.39.9.59 1.41.59.51 0 1.02-.2 1.41-.59l7.78-7.78 2.81-2.81c.8-.78.8-2.07 0-2.86zM5.41 20L4 18.59l7.72-7.72 1.47 1.35L5.41 20z\"/>\n",
              "  </svg>\n",
              "      </button>\n",
              "      \n",
              "  <style>\n",
              "    .colab-df-container {\n",
              "      display:flex;\n",
              "      flex-wrap:wrap;\n",
              "      gap: 12px;\n",
              "    }\n",
              "\n",
              "    .colab-df-convert {\n",
              "      background-color: #E8F0FE;\n",
              "      border: none;\n",
              "      border-radius: 50%;\n",
              "      cursor: pointer;\n",
              "      display: none;\n",
              "      fill: #1967D2;\n",
              "      height: 32px;\n",
              "      padding: 0 0 0 0;\n",
              "      width: 32px;\n",
              "    }\n",
              "\n",
              "    .colab-df-convert:hover {\n",
              "      background-color: #E2EBFA;\n",
              "      box-shadow: 0px 1px 2px rgba(60, 64, 67, 0.3), 0px 1px 3px 1px rgba(60, 64, 67, 0.15);\n",
              "      fill: #174EA6;\n",
              "    }\n",
              "\n",
              "    [theme=dark] .colab-df-convert {\n",
              "      background-color: #3B4455;\n",
              "      fill: #D2E3FC;\n",
              "    }\n",
              "\n",
              "    [theme=dark] .colab-df-convert:hover {\n",
              "      background-color: #434B5C;\n",
              "      box-shadow: 0px 1px 3px 1px rgba(0, 0, 0, 0.15);\n",
              "      filter: drop-shadow(0px 1px 2px rgba(0, 0, 0, 0.3));\n",
              "      fill: #FFFFFF;\n",
              "    }\n",
              "  </style>\n",
              "\n",
              "      <script>\n",
              "        const buttonEl =\n",
              "          document.querySelector('#df-f6e1d7c1-d811-4871-8532-0293887be52c button.colab-df-convert');\n",
              "        buttonEl.style.display =\n",
              "          google.colab.kernel.accessAllowed ? 'block' : 'none';\n",
              "\n",
              "        async function convertToInteractive(key) {\n",
              "          const element = document.querySelector('#df-f6e1d7c1-d811-4871-8532-0293887be52c');\n",
              "          const dataTable =\n",
              "            await google.colab.kernel.invokeFunction('convertToInteractive',\n",
              "                                                     [key], {});\n",
              "          if (!dataTable) return;\n",
              "\n",
              "          const docLinkHtml = 'Like what you see? Visit the ' +\n",
              "            '<a target=\"_blank\" href=https://colab.research.google.com/notebooks/data_table.ipynb>data table notebook</a>'\n",
              "            + ' to learn more about interactive tables.';\n",
              "          element.innerHTML = '';\n",
              "          dataTable['output_type'] = 'display_data';\n",
              "          await google.colab.output.renderOutput(dataTable, element);\n",
              "          const docLink = document.createElement('div');\n",
              "          docLink.innerHTML = docLinkHtml;\n",
              "          element.appendChild(docLink);\n",
              "        }\n",
              "      </script>\n",
              "    </div>\n",
              "  </div>\n",
              "  "
            ]
          },
          "metadata": {},
          "execution_count": 3
        }
      ]
    },
    {
      "cell_type": "code",
      "source": [
        "import re\n",
        "\n",
        "def clean_title(title):\n",
        "    title = re.sub(\"[^a-zA-Z0-9 ]\", \"\", title)\n",
        "    return title"
      ],
      "metadata": {
        "id": "kC6LjRTmc5lZ"
      },
      "execution_count": 4,
      "outputs": []
    },
    {
      "cell_type": "code",
      "source": [
        "movies[\"clean_title\"] = movies[\"title\"].apply(clean_title)\n"
      ],
      "metadata": {
        "id": "24d2tjHvdDZ0"
      },
      "execution_count": 5,
      "outputs": []
    },
    {
      "cell_type": "code",
      "source": [
        "movies"
      ],
      "metadata": {
        "colab": {
          "base_uri": "https://localhost:8080/",
          "height": 423
        },
        "id": "Yv-Et7fqdI4o",
        "outputId": "79f5b084-3fa1-4931-f539-32d5bfa23ff7"
      },
      "execution_count": 6,
      "outputs": [
        {
          "output_type": "execute_result",
          "data": {
            "text/plain": [
              "       movieId                               title  \\\n",
              "0            1                    Toy Story (1995)   \n",
              "1            2                      Jumanji (1995)   \n",
              "2            3             Grumpier Old Men (1995)   \n",
              "3            4            Waiting to Exhale (1995)   \n",
              "4            5  Father of the Bride Part II (1995)   \n",
              "...        ...                                 ...   \n",
              "62418   209157                           We (2018)   \n",
              "62419   209159           Window of the Soul (2001)   \n",
              "62420   209163                    Bad Poems (2018)   \n",
              "62421   209169                 A Girl Thing (2001)   \n",
              "62422   209171      Women of Devil's Island (1962)   \n",
              "\n",
              "                                            genres  \\\n",
              "0      Adventure|Animation|Children|Comedy|Fantasy   \n",
              "1                       Adventure|Children|Fantasy   \n",
              "2                                   Comedy|Romance   \n",
              "3                             Comedy|Drama|Romance   \n",
              "4                                           Comedy   \n",
              "...                                            ...   \n",
              "62418                                        Drama   \n",
              "62419                                  Documentary   \n",
              "62420                                 Comedy|Drama   \n",
              "62421                           (no genres listed)   \n",
              "62422                       Action|Adventure|Drama   \n",
              "\n",
              "                            clean_title  \n",
              "0                        Toy Story 1995  \n",
              "1                          Jumanji 1995  \n",
              "2                 Grumpier Old Men 1995  \n",
              "3                Waiting to Exhale 1995  \n",
              "4      Father of the Bride Part II 1995  \n",
              "...                                 ...  \n",
              "62418                           We 2018  \n",
              "62419           Window of the Soul 2001  \n",
              "62420                    Bad Poems 2018  \n",
              "62421                 A Girl Thing 2001  \n",
              "62422       Women of Devils Island 1962  \n",
              "\n",
              "[62423 rows x 4 columns]"
            ],
            "text/html": [
              "\n",
              "  <div id=\"df-40c67ad8-bfa5-4afc-b96c-6d9008def7b1\">\n",
              "    <div class=\"colab-df-container\">\n",
              "      <div>\n",
              "<style scoped>\n",
              "    .dataframe tbody tr th:only-of-type {\n",
              "        vertical-align: middle;\n",
              "    }\n",
              "\n",
              "    .dataframe tbody tr th {\n",
              "        vertical-align: top;\n",
              "    }\n",
              "\n",
              "    .dataframe thead th {\n",
              "        text-align: right;\n",
              "    }\n",
              "</style>\n",
              "<table border=\"1\" class=\"dataframe\">\n",
              "  <thead>\n",
              "    <tr style=\"text-align: right;\">\n",
              "      <th></th>\n",
              "      <th>movieId</th>\n",
              "      <th>title</th>\n",
              "      <th>genres</th>\n",
              "      <th>clean_title</th>\n",
              "    </tr>\n",
              "  </thead>\n",
              "  <tbody>\n",
              "    <tr>\n",
              "      <th>0</th>\n",
              "      <td>1</td>\n",
              "      <td>Toy Story (1995)</td>\n",
              "      <td>Adventure|Animation|Children|Comedy|Fantasy</td>\n",
              "      <td>Toy Story 1995</td>\n",
              "    </tr>\n",
              "    <tr>\n",
              "      <th>1</th>\n",
              "      <td>2</td>\n",
              "      <td>Jumanji (1995)</td>\n",
              "      <td>Adventure|Children|Fantasy</td>\n",
              "      <td>Jumanji 1995</td>\n",
              "    </tr>\n",
              "    <tr>\n",
              "      <th>2</th>\n",
              "      <td>3</td>\n",
              "      <td>Grumpier Old Men (1995)</td>\n",
              "      <td>Comedy|Romance</td>\n",
              "      <td>Grumpier Old Men 1995</td>\n",
              "    </tr>\n",
              "    <tr>\n",
              "      <th>3</th>\n",
              "      <td>4</td>\n",
              "      <td>Waiting to Exhale (1995)</td>\n",
              "      <td>Comedy|Drama|Romance</td>\n",
              "      <td>Waiting to Exhale 1995</td>\n",
              "    </tr>\n",
              "    <tr>\n",
              "      <th>4</th>\n",
              "      <td>5</td>\n",
              "      <td>Father of the Bride Part II (1995)</td>\n",
              "      <td>Comedy</td>\n",
              "      <td>Father of the Bride Part II 1995</td>\n",
              "    </tr>\n",
              "    <tr>\n",
              "      <th>...</th>\n",
              "      <td>...</td>\n",
              "      <td>...</td>\n",
              "      <td>...</td>\n",
              "      <td>...</td>\n",
              "    </tr>\n",
              "    <tr>\n",
              "      <th>62418</th>\n",
              "      <td>209157</td>\n",
              "      <td>We (2018)</td>\n",
              "      <td>Drama</td>\n",
              "      <td>We 2018</td>\n",
              "    </tr>\n",
              "    <tr>\n",
              "      <th>62419</th>\n",
              "      <td>209159</td>\n",
              "      <td>Window of the Soul (2001)</td>\n",
              "      <td>Documentary</td>\n",
              "      <td>Window of the Soul 2001</td>\n",
              "    </tr>\n",
              "    <tr>\n",
              "      <th>62420</th>\n",
              "      <td>209163</td>\n",
              "      <td>Bad Poems (2018)</td>\n",
              "      <td>Comedy|Drama</td>\n",
              "      <td>Bad Poems 2018</td>\n",
              "    </tr>\n",
              "    <tr>\n",
              "      <th>62421</th>\n",
              "      <td>209169</td>\n",
              "      <td>A Girl Thing (2001)</td>\n",
              "      <td>(no genres listed)</td>\n",
              "      <td>A Girl Thing 2001</td>\n",
              "    </tr>\n",
              "    <tr>\n",
              "      <th>62422</th>\n",
              "      <td>209171</td>\n",
              "      <td>Women of Devil's Island (1962)</td>\n",
              "      <td>Action|Adventure|Drama</td>\n",
              "      <td>Women of Devils Island 1962</td>\n",
              "    </tr>\n",
              "  </tbody>\n",
              "</table>\n",
              "<p>62423 rows × 4 columns</p>\n",
              "</div>\n",
              "      <button class=\"colab-df-convert\" onclick=\"convertToInteractive('df-40c67ad8-bfa5-4afc-b96c-6d9008def7b1')\"\n",
              "              title=\"Convert this dataframe to an interactive table.\"\n",
              "              style=\"display:none;\">\n",
              "        \n",
              "  <svg xmlns=\"http://www.w3.org/2000/svg\" height=\"24px\"viewBox=\"0 0 24 24\"\n",
              "       width=\"24px\">\n",
              "    <path d=\"M0 0h24v24H0V0z\" fill=\"none\"/>\n",
              "    <path d=\"M18.56 5.44l.94 2.06.94-2.06 2.06-.94-2.06-.94-.94-2.06-.94 2.06-2.06.94zm-11 1L8.5 8.5l.94-2.06 2.06-.94-2.06-.94L8.5 2.5l-.94 2.06-2.06.94zm10 10l.94 2.06.94-2.06 2.06-.94-2.06-.94-.94-2.06-.94 2.06-2.06.94z\"/><path d=\"M17.41 7.96l-1.37-1.37c-.4-.4-.92-.59-1.43-.59-.52 0-1.04.2-1.43.59L10.3 9.45l-7.72 7.72c-.78.78-.78 2.05 0 2.83L4 21.41c.39.39.9.59 1.41.59.51 0 1.02-.2 1.41-.59l7.78-7.78 2.81-2.81c.8-.78.8-2.07 0-2.86zM5.41 20L4 18.59l7.72-7.72 1.47 1.35L5.41 20z\"/>\n",
              "  </svg>\n",
              "      </button>\n",
              "      \n",
              "  <style>\n",
              "    .colab-df-container {\n",
              "      display:flex;\n",
              "      flex-wrap:wrap;\n",
              "      gap: 12px;\n",
              "    }\n",
              "\n",
              "    .colab-df-convert {\n",
              "      background-color: #E8F0FE;\n",
              "      border: none;\n",
              "      border-radius: 50%;\n",
              "      cursor: pointer;\n",
              "      display: none;\n",
              "      fill: #1967D2;\n",
              "      height: 32px;\n",
              "      padding: 0 0 0 0;\n",
              "      width: 32px;\n",
              "    }\n",
              "\n",
              "    .colab-df-convert:hover {\n",
              "      background-color: #E2EBFA;\n",
              "      box-shadow: 0px 1px 2px rgba(60, 64, 67, 0.3), 0px 1px 3px 1px rgba(60, 64, 67, 0.15);\n",
              "      fill: #174EA6;\n",
              "    }\n",
              "\n",
              "    [theme=dark] .colab-df-convert {\n",
              "      background-color: #3B4455;\n",
              "      fill: #D2E3FC;\n",
              "    }\n",
              "\n",
              "    [theme=dark] .colab-df-convert:hover {\n",
              "      background-color: #434B5C;\n",
              "      box-shadow: 0px 1px 3px 1px rgba(0, 0, 0, 0.15);\n",
              "      filter: drop-shadow(0px 1px 2px rgba(0, 0, 0, 0.3));\n",
              "      fill: #FFFFFF;\n",
              "    }\n",
              "  </style>\n",
              "\n",
              "      <script>\n",
              "        const buttonEl =\n",
              "          document.querySelector('#df-40c67ad8-bfa5-4afc-b96c-6d9008def7b1 button.colab-df-convert');\n",
              "        buttonEl.style.display =\n",
              "          google.colab.kernel.accessAllowed ? 'block' : 'none';\n",
              "\n",
              "        async function convertToInteractive(key) {\n",
              "          const element = document.querySelector('#df-40c67ad8-bfa5-4afc-b96c-6d9008def7b1');\n",
              "          const dataTable =\n",
              "            await google.colab.kernel.invokeFunction('convertToInteractive',\n",
              "                                                     [key], {});\n",
              "          if (!dataTable) return;\n",
              "\n",
              "          const docLinkHtml = 'Like what you see? Visit the ' +\n",
              "            '<a target=\"_blank\" href=https://colab.research.google.com/notebooks/data_table.ipynb>data table notebook</a>'\n",
              "            + ' to learn more about interactive tables.';\n",
              "          element.innerHTML = '';\n",
              "          dataTable['output_type'] = 'display_data';\n",
              "          await google.colab.output.renderOutput(dataTable, element);\n",
              "          const docLink = document.createElement('div');\n",
              "          docLink.innerHTML = docLinkHtml;\n",
              "          element.appendChild(docLink);\n",
              "        }\n",
              "      </script>\n",
              "    </div>\n",
              "  </div>\n",
              "  "
            ]
          },
          "metadata": {},
          "execution_count": 6
        }
      ]
    },
    {
      "cell_type": "code",
      "source": [
        "from sklearn.feature_extraction.text import TfidfVectorizer\n",
        "vectorizer = TfidfVectorizer(ngram_range=(1,2))\n",
        "\n",
        "tfidf = vectorizer.fit_transform(movies[\"clean_title\"])"
      ],
      "metadata": {
        "id": "hFO66qkweKc4"
      },
      "execution_count": 7,
      "outputs": []
    },
    {
      "cell_type": "code",
      "source": [
        "from sklearn.metrics.pairwise import cosine_similarity\n",
        "import numpy as np\n",
        "\n",
        "def search(title):\n",
        "    title = clean_title(title)\n",
        "    query_vec = vectorizer.transform([title])\n",
        "    similarity = cosine_similarity(query_vec, tfidf).flatten()\n",
        "    indices = np.argpartition(similarity, -5)[-5:]\n",
        "    results = movies.iloc[indices].iloc[::-1]\n",
        "    \n",
        "    return results"
      ],
      "metadata": {
        "id": "g7iQ3FG-dc2h"
      },
      "execution_count": 8,
      "outputs": []
    },
    {
      "cell_type": "code",
      "source": [
        "import ipywidgets as widgets\n",
        "from IPython.display import display\n",
        "\n",
        "movie_input = widgets.Text(\n",
        "    value='Jumanji',\n",
        "    description='Movie Title:',\n",
        "    disabled=False\n",
        ")\n",
        "movie_list = widgets.Output()\n",
        "\n",
        "def on_type(data):\n",
        "    with movie_list:\n",
        "        movie_list.clear_output()\n",
        "        title = data[\"new\"]\n",
        "        if len(title) > 5:\n",
        "            display(search(title))\n",
        "\n",
        "movie_input.observe(on_type, names='value')\n",
        "\n",
        "\n",
        "display(movie_input, movie_list)"
      ],
      "metadata": {
        "colab": {
          "base_uri": "https://localhost:8080/",
          "height": 49,
          "referenced_widgets": [
            "2452fa0ec69b4f988c93e71e0e025057",
            "6d5785384d7b422089858c7632dfa97c",
            "bbb4fa7bad814c98a1639cec2145b141",
            "177e8f5234594659a2944c49362b6843",
            "203321de0e4748d7ae2c56278d51cd83"
          ]
        },
        "id": "dd5EzJ7adeyK",
        "outputId": "da078842-2eb3-4484-db07-da5df8b130ab"
      },
      "execution_count": 9,
      "outputs": [
        {
          "output_type": "display_data",
          "data": {
            "text/plain": [
              "Text(value='Jumanji', description='Movie Title:')"
            ],
            "application/vnd.jupyter.widget-view+json": {
              "version_major": 2,
              "version_minor": 0,
              "model_id": "2452fa0ec69b4f988c93e71e0e025057"
            }
          },
          "metadata": {}
        },
        {
          "output_type": "display_data",
          "data": {
            "text/plain": [
              "Output()"
            ],
            "application/vnd.jupyter.widget-view+json": {
              "version_major": 2,
              "version_minor": 0,
              "model_id": "177e8f5234594659a2944c49362b6843"
            }
          },
          "metadata": {}
        }
      ]
    },
    {
      "cell_type": "code",
      "source": [
        "movie_id = 89745\n",
        "\n",
        "#def find_similar_movies(movie_id):\n",
        "movie = movies[movies[\"movieId\"] == movie_id]"
      ],
      "metadata": {
        "id": "VjZp-zEJdohD"
      },
      "execution_count": 10,
      "outputs": []
    },
    {
      "cell_type": "code",
      "source": [
        "ratings = pd.read_csv(\"/content/ratings.csv\")"
      ],
      "metadata": {
        "id": "VgJhbzpQdsEQ"
      },
      "execution_count": 11,
      "outputs": []
    },
    {
      "cell_type": "code",
      "source": [
        "ratings.dtypes"
      ],
      "metadata": {
        "colab": {
          "base_uri": "https://localhost:8080/"
        },
        "id": "y5K758LRdy4Q",
        "outputId": "19b49600-cba1-435b-f7df-63ca243ed703"
      },
      "execution_count": 12,
      "outputs": [
        {
          "output_type": "execute_result",
          "data": {
            "text/plain": [
              "userId         int64\n",
              "movieId        int64\n",
              "rating       float64\n",
              "timestamp    float64\n",
              "dtype: object"
            ]
          },
          "metadata": {},
          "execution_count": 12
        }
      ]
    },
    {
      "cell_type": "code",
      "source": [
        "movie_id = 1"
      ],
      "metadata": {
        "id": "OQuwYhSBgvwA"
      },
      "execution_count": 13,
      "outputs": []
    },
    {
      "cell_type": "code",
      "source": [
        "similar_users = ratings[(ratings[\"movieId\"] == movie_id) & (ratings[\"rating\"] > 4)][\"userId\"].unique()"
      ],
      "metadata": {
        "id": "lXpsWwfEkzLX"
      },
      "execution_count": 14,
      "outputs": []
    },
    {
      "cell_type": "code",
      "source": [
        "similar_users"
      ],
      "metadata": {
        "colab": {
          "base_uri": "https://localhost:8080/"
        },
        "id": "keEcPVkuijp8",
        "outputId": "37244300-7062-40ba-8c6c-cbe239aaffdc"
      },
      "execution_count": 15,
      "outputs": [
        {
          "output_type": "execute_result",
          "data": {
            "text/plain": [
              "array([ 36,  75,  86,  90,  93,  95,  96,  98, 111, 120, 127, 143, 152,\n",
              "       158, 160, 162, 171, 186, 188, 211, 217, 229, 230, 235, 249, 257,\n",
              "       259, 297, 298, 302, 323, 329, 355, 359, 369, 371, 381, 392, 402,\n",
              "       411, 428, 435, 439, 447, 449, 468, 469, 477, 484, 513, 519, 537,\n",
              "       540, 541, 548, 551, 553, 561, 567, 573, 582, 593, 607, 609, 611,\n",
              "       623, 624, 626, 628, 631, 644, 653, 654, 670, 683, 686, 694, 697,\n",
              "       702, 709, 727, 733, 741, 749, 752, 765, 768, 773, 785, 791, 793,\n",
              "       796, 803, 805, 807, 811, 830, 834, 839, 848, 856, 896, 904, 905])"
            ]
          },
          "metadata": {},
          "execution_count": 15
        }
      ]
    },
    {
      "cell_type": "code",
      "source": [
        "similar_user_recs = ratings[(ratings[\"userId\"].isin(similar_users)) & (ratings[\"rating\"] > 4)][\"movieId\"]"
      ],
      "metadata": {
        "id": "wfa-pncclbtj"
      },
      "execution_count": 16,
      "outputs": []
    },
    {
      "cell_type": "code",
      "source": [
        "similar_user_recs"
      ],
      "metadata": {
        "colab": {
          "base_uri": "https://localhost:8080/"
        },
        "id": "XDLB90xzmE9Z",
        "outputId": "8e36c913-35c2-4092-f0f9-75f87adcaab2"
      },
      "execution_count": 17,
      "outputs": [
        {
          "output_type": "execute_result",
          "data": {
            "text/plain": [
              "5101         1\n",
              "5105        34\n",
              "5111       110\n",
              "5114       150\n",
              "5127       260\n",
              "          ... \n",
              "127424    3671\n",
              "127431    3751\n",
              "127432    3760\n",
              "127434    3812\n",
              "127436    5060\n",
              "Name: movieId, Length: 7345, dtype: int64"
            ]
          },
          "metadata": {},
          "execution_count": 17
        }
      ]
    },
    {
      "cell_type": "code",
      "source": [
        "similar_user_recs = similar_user_recs.value_counts() / len(similar_users)\n",
        "\n",
        "similar_user_recs = similar_user_recs[similar_user_recs > .1]"
      ],
      "metadata": {
        "id": "wD_LOHgamwcR"
      },
      "execution_count": 18,
      "outputs": []
    },
    {
      "cell_type": "code",
      "source": [
        "similar_user_recs"
      ],
      "metadata": {
        "colab": {
          "base_uri": "https://localhost:8080/"
        },
        "id": "G4ilPI8anE_r",
        "outputId": "4d6fd43d-822e-461d-8647-9c0a82845cfe"
      },
      "execution_count": 19,
      "outputs": [
        {
          "output_type": "execute_result",
          "data": {
            "text/plain": [
              "1       1.000000\n",
              "318     0.423077\n",
              "593     0.326923\n",
              "260     0.317308\n",
              "2571    0.298077\n",
              "          ...   \n",
              "1220    0.105769\n",
              "1721    0.105769\n",
              "1234    0.105769\n",
              "1732    0.105769\n",
              "2997    0.105769\n",
              "Name: movieId, Length: 100, dtype: float64"
            ]
          },
          "metadata": {},
          "execution_count": 19
        }
      ]
    },
    {
      "cell_type": "code",
      "source": [
        "all_users = ratings[(ratings[\"movieId\"].isin(similar_user_recs.index)) & (ratings[\"rating\"] > 4)]"
      ],
      "metadata": {
        "id": "o4_it8QvoUtZ"
      },
      "execution_count": 20,
      "outputs": []
    },
    {
      "cell_type": "code",
      "source": [
        "all_user_recs = all_users[\"movieId\"].value_counts() / len(all_users[\"userId\"].unique())"
      ],
      "metadata": {
        "id": "s3txMR4ZoXRK"
      },
      "execution_count": 21,
      "outputs": []
    },
    {
      "cell_type": "code",
      "source": [
        "rec_percentages = pd.concat([similar_user_recs, all_user_recs], axis=1)\n",
        "rec_percentages.columns = [\"similar\", \"all\"]"
      ],
      "metadata": {
        "id": "uIv5aefXoePp"
      },
      "execution_count": 22,
      "outputs": []
    },
    {
      "cell_type": "code",
      "source": [
        "rec_percentages"
      ],
      "metadata": {
        "colab": {
          "base_uri": "https://localhost:8080/",
          "height": 423
        },
        "id": "lVK8imB3olk2",
        "outputId": "205b569b-76e0-45bb-a349-7c2739ec4008"
      },
      "execution_count": 23,
      "outputs": [
        {
          "output_type": "execute_result",
          "data": {
            "text/plain": [
              "       similar       all\n",
              "1     1.000000  0.123077\n",
              "318   0.423077  0.328994\n",
              "593   0.326923  0.231953\n",
              "260   0.317308  0.209467\n",
              "2571  0.298077  0.214201\n",
              "...        ...       ...\n",
              "1220  0.105769  0.036686\n",
              "1721  0.105769  0.059172\n",
              "1234  0.105769  0.043787\n",
              "1732  0.105769  0.072189\n",
              "2997  0.105769  0.073373\n",
              "\n",
              "[100 rows x 2 columns]"
            ],
            "text/html": [
              "\n",
              "  <div id=\"df-dd24c95a-b03f-4d7e-af1f-e7e2cd2cfcdd\">\n",
              "    <div class=\"colab-df-container\">\n",
              "      <div>\n",
              "<style scoped>\n",
              "    .dataframe tbody tr th:only-of-type {\n",
              "        vertical-align: middle;\n",
              "    }\n",
              "\n",
              "    .dataframe tbody tr th {\n",
              "        vertical-align: top;\n",
              "    }\n",
              "\n",
              "    .dataframe thead th {\n",
              "        text-align: right;\n",
              "    }\n",
              "</style>\n",
              "<table border=\"1\" class=\"dataframe\">\n",
              "  <thead>\n",
              "    <tr style=\"text-align: right;\">\n",
              "      <th></th>\n",
              "      <th>similar</th>\n",
              "      <th>all</th>\n",
              "    </tr>\n",
              "  </thead>\n",
              "  <tbody>\n",
              "    <tr>\n",
              "      <th>1</th>\n",
              "      <td>1.000000</td>\n",
              "      <td>0.123077</td>\n",
              "    </tr>\n",
              "    <tr>\n",
              "      <th>318</th>\n",
              "      <td>0.423077</td>\n",
              "      <td>0.328994</td>\n",
              "    </tr>\n",
              "    <tr>\n",
              "      <th>593</th>\n",
              "      <td>0.326923</td>\n",
              "      <td>0.231953</td>\n",
              "    </tr>\n",
              "    <tr>\n",
              "      <th>260</th>\n",
              "      <td>0.317308</td>\n",
              "      <td>0.209467</td>\n",
              "    </tr>\n",
              "    <tr>\n",
              "      <th>2571</th>\n",
              "      <td>0.298077</td>\n",
              "      <td>0.214201</td>\n",
              "    </tr>\n",
              "    <tr>\n",
              "      <th>...</th>\n",
              "      <td>...</td>\n",
              "      <td>...</td>\n",
              "    </tr>\n",
              "    <tr>\n",
              "      <th>1220</th>\n",
              "      <td>0.105769</td>\n",
              "      <td>0.036686</td>\n",
              "    </tr>\n",
              "    <tr>\n",
              "      <th>1721</th>\n",
              "      <td>0.105769</td>\n",
              "      <td>0.059172</td>\n",
              "    </tr>\n",
              "    <tr>\n",
              "      <th>1234</th>\n",
              "      <td>0.105769</td>\n",
              "      <td>0.043787</td>\n",
              "    </tr>\n",
              "    <tr>\n",
              "      <th>1732</th>\n",
              "      <td>0.105769</td>\n",
              "      <td>0.072189</td>\n",
              "    </tr>\n",
              "    <tr>\n",
              "      <th>2997</th>\n",
              "      <td>0.105769</td>\n",
              "      <td>0.073373</td>\n",
              "    </tr>\n",
              "  </tbody>\n",
              "</table>\n",
              "<p>100 rows × 2 columns</p>\n",
              "</div>\n",
              "      <button class=\"colab-df-convert\" onclick=\"convertToInteractive('df-dd24c95a-b03f-4d7e-af1f-e7e2cd2cfcdd')\"\n",
              "              title=\"Convert this dataframe to an interactive table.\"\n",
              "              style=\"display:none;\">\n",
              "        \n",
              "  <svg xmlns=\"http://www.w3.org/2000/svg\" height=\"24px\"viewBox=\"0 0 24 24\"\n",
              "       width=\"24px\">\n",
              "    <path d=\"M0 0h24v24H0V0z\" fill=\"none\"/>\n",
              "    <path d=\"M18.56 5.44l.94 2.06.94-2.06 2.06-.94-2.06-.94-.94-2.06-.94 2.06-2.06.94zm-11 1L8.5 8.5l.94-2.06 2.06-.94-2.06-.94L8.5 2.5l-.94 2.06-2.06.94zm10 10l.94 2.06.94-2.06 2.06-.94-2.06-.94-.94-2.06-.94 2.06-2.06.94z\"/><path d=\"M17.41 7.96l-1.37-1.37c-.4-.4-.92-.59-1.43-.59-.52 0-1.04.2-1.43.59L10.3 9.45l-7.72 7.72c-.78.78-.78 2.05 0 2.83L4 21.41c.39.39.9.59 1.41.59.51 0 1.02-.2 1.41-.59l7.78-7.78 2.81-2.81c.8-.78.8-2.07 0-2.86zM5.41 20L4 18.59l7.72-7.72 1.47 1.35L5.41 20z\"/>\n",
              "  </svg>\n",
              "      </button>\n",
              "      \n",
              "  <style>\n",
              "    .colab-df-container {\n",
              "      display:flex;\n",
              "      flex-wrap:wrap;\n",
              "      gap: 12px;\n",
              "    }\n",
              "\n",
              "    .colab-df-convert {\n",
              "      background-color: #E8F0FE;\n",
              "      border: none;\n",
              "      border-radius: 50%;\n",
              "      cursor: pointer;\n",
              "      display: none;\n",
              "      fill: #1967D2;\n",
              "      height: 32px;\n",
              "      padding: 0 0 0 0;\n",
              "      width: 32px;\n",
              "    }\n",
              "\n",
              "    .colab-df-convert:hover {\n",
              "      background-color: #E2EBFA;\n",
              "      box-shadow: 0px 1px 2px rgba(60, 64, 67, 0.3), 0px 1px 3px 1px rgba(60, 64, 67, 0.15);\n",
              "      fill: #174EA6;\n",
              "    }\n",
              "\n",
              "    [theme=dark] .colab-df-convert {\n",
              "      background-color: #3B4455;\n",
              "      fill: #D2E3FC;\n",
              "    }\n",
              "\n",
              "    [theme=dark] .colab-df-convert:hover {\n",
              "      background-color: #434B5C;\n",
              "      box-shadow: 0px 1px 3px 1px rgba(0, 0, 0, 0.15);\n",
              "      filter: drop-shadow(0px 1px 2px rgba(0, 0, 0, 0.3));\n",
              "      fill: #FFFFFF;\n",
              "    }\n",
              "  </style>\n",
              "\n",
              "      <script>\n",
              "        const buttonEl =\n",
              "          document.querySelector('#df-dd24c95a-b03f-4d7e-af1f-e7e2cd2cfcdd button.colab-df-convert');\n",
              "        buttonEl.style.display =\n",
              "          google.colab.kernel.accessAllowed ? 'block' : 'none';\n",
              "\n",
              "        async function convertToInteractive(key) {\n",
              "          const element = document.querySelector('#df-dd24c95a-b03f-4d7e-af1f-e7e2cd2cfcdd');\n",
              "          const dataTable =\n",
              "            await google.colab.kernel.invokeFunction('convertToInteractive',\n",
              "                                                     [key], {});\n",
              "          if (!dataTable) return;\n",
              "\n",
              "          const docLinkHtml = 'Like what you see? Visit the ' +\n",
              "            '<a target=\"_blank\" href=https://colab.research.google.com/notebooks/data_table.ipynb>data table notebook</a>'\n",
              "            + ' to learn more about interactive tables.';\n",
              "          element.innerHTML = '';\n",
              "          dataTable['output_type'] = 'display_data';\n",
              "          await google.colab.output.renderOutput(dataTable, element);\n",
              "          const docLink = document.createElement('div');\n",
              "          docLink.innerHTML = docLinkHtml;\n",
              "          element.appendChild(docLink);\n",
              "        }\n",
              "      </script>\n",
              "    </div>\n",
              "  </div>\n",
              "  "
            ]
          },
          "metadata": {},
          "execution_count": 23
        }
      ]
    },
    {
      "cell_type": "code",
      "source": [
        "rec_percentages[\"score\"] = rec_percentages[\"similar\"] / rec_percentages[\"all\"]"
      ],
      "metadata": {
        "id": "CpIeP4fRoziq"
      },
      "execution_count": 24,
      "outputs": []
    },
    {
      "cell_type": "code",
      "source": [
        "rec_percentages = rec_percentages.sort_values(\"score\", ascending=False)"
      ],
      "metadata": {
        "id": "8swa-knlo7ee"
      },
      "execution_count": 25,
      "outputs": []
    },
    {
      "cell_type": "code",
      "source": [
        "rec_percentages.head(10).merge(movies, left_index=True, right_on=\"movieId\")"
      ],
      "metadata": {
        "colab": {
          "base_uri": "https://localhost:8080/",
          "height": 441
        },
        "id": "QH2LzFbCpAUz",
        "outputId": "7d518914-8244-4734-f083-272884c770e6"
      },
      "execution_count": 26,
      "outputs": [
        {
          "output_type": "execute_result",
          "data": {
            "text/plain": [
              "        similar       all     score  movieId  \\\n",
              "0      1.000000  0.123077  8.125000        1   \n",
              "2264   0.134615  0.026036  5.170455     2355   \n",
              "14813  0.125000  0.024852  5.029762    78499   \n",
              "3021   0.230769  0.046154  5.000000     3114   \n",
              "729    0.125000  0.029586  4.225000      745   \n",
              "1005   0.125000  0.029586  4.225000     1028   \n",
              "4780   0.278846  0.073373  3.800403     4886   \n",
              "4201   0.269231  0.081657  3.297101     4306   \n",
              "33     0.173077  0.054438  3.179348       34   \n",
              "2025   0.144231  0.047337  3.046875     2115   \n",
              "\n",
              "                                             title  \\\n",
              "0                                 Toy Story (1995)   \n",
              "2264                          Bug's Life, A (1998)   \n",
              "14813                           Toy Story 3 (2010)   \n",
              "3021                            Toy Story 2 (1999)   \n",
              "729         Wallace & Gromit: A Close Shave (1995)   \n",
              "1005                           Mary Poppins (1964)   \n",
              "4780                         Monsters, Inc. (2001)   \n",
              "4201                                  Shrek (2001)   \n",
              "33                                     Babe (1995)   \n",
              "2025   Indiana Jones and the Temple of Doom (1984)   \n",
              "\n",
              "                                                  genres  \\\n",
              "0            Adventure|Animation|Children|Comedy|Fantasy   \n",
              "2264                 Adventure|Animation|Children|Comedy   \n",
              "14813   Adventure|Animation|Children|Comedy|Fantasy|IMAX   \n",
              "3021         Adventure|Animation|Children|Comedy|Fantasy   \n",
              "729                            Animation|Children|Comedy   \n",
              "1005                     Children|Comedy|Fantasy|Musical   \n",
              "4780         Adventure|Animation|Children|Comedy|Fantasy   \n",
              "4201   Adventure|Animation|Children|Comedy|Fantasy|Ro...   \n",
              "33                                        Children|Drama   \n",
              "2025                            Action|Adventure|Fantasy   \n",
              "\n",
              "                                     clean_title  \n",
              "0                                 Toy Story 1995  \n",
              "2264                            Bugs Life A 1998  \n",
              "14813                           Toy Story 3 2010  \n",
              "3021                            Toy Story 2 1999  \n",
              "729           Wallace  Gromit A Close Shave 1995  \n",
              "1005                           Mary Poppins 1964  \n",
              "4780                           Monsters Inc 2001  \n",
              "4201                                  Shrek 2001  \n",
              "33                                     Babe 1995  \n",
              "2025   Indiana Jones and the Temple of Doom 1984  "
            ],
            "text/html": [
              "\n",
              "  <div id=\"df-ac03e835-f613-4089-a952-074d4afb34bc\">\n",
              "    <div class=\"colab-df-container\">\n",
              "      <div>\n",
              "<style scoped>\n",
              "    .dataframe tbody tr th:only-of-type {\n",
              "        vertical-align: middle;\n",
              "    }\n",
              "\n",
              "    .dataframe tbody tr th {\n",
              "        vertical-align: top;\n",
              "    }\n",
              "\n",
              "    .dataframe thead th {\n",
              "        text-align: right;\n",
              "    }\n",
              "</style>\n",
              "<table border=\"1\" class=\"dataframe\">\n",
              "  <thead>\n",
              "    <tr style=\"text-align: right;\">\n",
              "      <th></th>\n",
              "      <th>similar</th>\n",
              "      <th>all</th>\n",
              "      <th>score</th>\n",
              "      <th>movieId</th>\n",
              "      <th>title</th>\n",
              "      <th>genres</th>\n",
              "      <th>clean_title</th>\n",
              "    </tr>\n",
              "  </thead>\n",
              "  <tbody>\n",
              "    <tr>\n",
              "      <th>0</th>\n",
              "      <td>1.000000</td>\n",
              "      <td>0.123077</td>\n",
              "      <td>8.125000</td>\n",
              "      <td>1</td>\n",
              "      <td>Toy Story (1995)</td>\n",
              "      <td>Adventure|Animation|Children|Comedy|Fantasy</td>\n",
              "      <td>Toy Story 1995</td>\n",
              "    </tr>\n",
              "    <tr>\n",
              "      <th>2264</th>\n",
              "      <td>0.134615</td>\n",
              "      <td>0.026036</td>\n",
              "      <td>5.170455</td>\n",
              "      <td>2355</td>\n",
              "      <td>Bug's Life, A (1998)</td>\n",
              "      <td>Adventure|Animation|Children|Comedy</td>\n",
              "      <td>Bugs Life A 1998</td>\n",
              "    </tr>\n",
              "    <tr>\n",
              "      <th>14813</th>\n",
              "      <td>0.125000</td>\n",
              "      <td>0.024852</td>\n",
              "      <td>5.029762</td>\n",
              "      <td>78499</td>\n",
              "      <td>Toy Story 3 (2010)</td>\n",
              "      <td>Adventure|Animation|Children|Comedy|Fantasy|IMAX</td>\n",
              "      <td>Toy Story 3 2010</td>\n",
              "    </tr>\n",
              "    <tr>\n",
              "      <th>3021</th>\n",
              "      <td>0.230769</td>\n",
              "      <td>0.046154</td>\n",
              "      <td>5.000000</td>\n",
              "      <td>3114</td>\n",
              "      <td>Toy Story 2 (1999)</td>\n",
              "      <td>Adventure|Animation|Children|Comedy|Fantasy</td>\n",
              "      <td>Toy Story 2 1999</td>\n",
              "    </tr>\n",
              "    <tr>\n",
              "      <th>729</th>\n",
              "      <td>0.125000</td>\n",
              "      <td>0.029586</td>\n",
              "      <td>4.225000</td>\n",
              "      <td>745</td>\n",
              "      <td>Wallace &amp; Gromit: A Close Shave (1995)</td>\n",
              "      <td>Animation|Children|Comedy</td>\n",
              "      <td>Wallace  Gromit A Close Shave 1995</td>\n",
              "    </tr>\n",
              "    <tr>\n",
              "      <th>1005</th>\n",
              "      <td>0.125000</td>\n",
              "      <td>0.029586</td>\n",
              "      <td>4.225000</td>\n",
              "      <td>1028</td>\n",
              "      <td>Mary Poppins (1964)</td>\n",
              "      <td>Children|Comedy|Fantasy|Musical</td>\n",
              "      <td>Mary Poppins 1964</td>\n",
              "    </tr>\n",
              "    <tr>\n",
              "      <th>4780</th>\n",
              "      <td>0.278846</td>\n",
              "      <td>0.073373</td>\n",
              "      <td>3.800403</td>\n",
              "      <td>4886</td>\n",
              "      <td>Monsters, Inc. (2001)</td>\n",
              "      <td>Adventure|Animation|Children|Comedy|Fantasy</td>\n",
              "      <td>Monsters Inc 2001</td>\n",
              "    </tr>\n",
              "    <tr>\n",
              "      <th>4201</th>\n",
              "      <td>0.269231</td>\n",
              "      <td>0.081657</td>\n",
              "      <td>3.297101</td>\n",
              "      <td>4306</td>\n",
              "      <td>Shrek (2001)</td>\n",
              "      <td>Adventure|Animation|Children|Comedy|Fantasy|Ro...</td>\n",
              "      <td>Shrek 2001</td>\n",
              "    </tr>\n",
              "    <tr>\n",
              "      <th>33</th>\n",
              "      <td>0.173077</td>\n",
              "      <td>0.054438</td>\n",
              "      <td>3.179348</td>\n",
              "      <td>34</td>\n",
              "      <td>Babe (1995)</td>\n",
              "      <td>Children|Drama</td>\n",
              "      <td>Babe 1995</td>\n",
              "    </tr>\n",
              "    <tr>\n",
              "      <th>2025</th>\n",
              "      <td>0.144231</td>\n",
              "      <td>0.047337</td>\n",
              "      <td>3.046875</td>\n",
              "      <td>2115</td>\n",
              "      <td>Indiana Jones and the Temple of Doom (1984)</td>\n",
              "      <td>Action|Adventure|Fantasy</td>\n",
              "      <td>Indiana Jones and the Temple of Doom 1984</td>\n",
              "    </tr>\n",
              "  </tbody>\n",
              "</table>\n",
              "</div>\n",
              "      <button class=\"colab-df-convert\" onclick=\"convertToInteractive('df-ac03e835-f613-4089-a952-074d4afb34bc')\"\n",
              "              title=\"Convert this dataframe to an interactive table.\"\n",
              "              style=\"display:none;\">\n",
              "        \n",
              "  <svg xmlns=\"http://www.w3.org/2000/svg\" height=\"24px\"viewBox=\"0 0 24 24\"\n",
              "       width=\"24px\">\n",
              "    <path d=\"M0 0h24v24H0V0z\" fill=\"none\"/>\n",
              "    <path d=\"M18.56 5.44l.94 2.06.94-2.06 2.06-.94-2.06-.94-.94-2.06-.94 2.06-2.06.94zm-11 1L8.5 8.5l.94-2.06 2.06-.94-2.06-.94L8.5 2.5l-.94 2.06-2.06.94zm10 10l.94 2.06.94-2.06 2.06-.94-2.06-.94-.94-2.06-.94 2.06-2.06.94z\"/><path d=\"M17.41 7.96l-1.37-1.37c-.4-.4-.92-.59-1.43-.59-.52 0-1.04.2-1.43.59L10.3 9.45l-7.72 7.72c-.78.78-.78 2.05 0 2.83L4 21.41c.39.39.9.59 1.41.59.51 0 1.02-.2 1.41-.59l7.78-7.78 2.81-2.81c.8-.78.8-2.07 0-2.86zM5.41 20L4 18.59l7.72-7.72 1.47 1.35L5.41 20z\"/>\n",
              "  </svg>\n",
              "      </button>\n",
              "      \n",
              "  <style>\n",
              "    .colab-df-container {\n",
              "      display:flex;\n",
              "      flex-wrap:wrap;\n",
              "      gap: 12px;\n",
              "    }\n",
              "\n",
              "    .colab-df-convert {\n",
              "      background-color: #E8F0FE;\n",
              "      border: none;\n",
              "      border-radius: 50%;\n",
              "      cursor: pointer;\n",
              "      display: none;\n",
              "      fill: #1967D2;\n",
              "      height: 32px;\n",
              "      padding: 0 0 0 0;\n",
              "      width: 32px;\n",
              "    }\n",
              "\n",
              "    .colab-df-convert:hover {\n",
              "      background-color: #E2EBFA;\n",
              "      box-shadow: 0px 1px 2px rgba(60, 64, 67, 0.3), 0px 1px 3px 1px rgba(60, 64, 67, 0.15);\n",
              "      fill: #174EA6;\n",
              "    }\n",
              "\n",
              "    [theme=dark] .colab-df-convert {\n",
              "      background-color: #3B4455;\n",
              "      fill: #D2E3FC;\n",
              "    }\n",
              "\n",
              "    [theme=dark] .colab-df-convert:hover {\n",
              "      background-color: #434B5C;\n",
              "      box-shadow: 0px 1px 3px 1px rgba(0, 0, 0, 0.15);\n",
              "      filter: drop-shadow(0px 1px 2px rgba(0, 0, 0, 0.3));\n",
              "      fill: #FFFFFF;\n",
              "    }\n",
              "  </style>\n",
              "\n",
              "      <script>\n",
              "        const buttonEl =\n",
              "          document.querySelector('#df-ac03e835-f613-4089-a952-074d4afb34bc button.colab-df-convert');\n",
              "        buttonEl.style.display =\n",
              "          google.colab.kernel.accessAllowed ? 'block' : 'none';\n",
              "\n",
              "        async function convertToInteractive(key) {\n",
              "          const element = document.querySelector('#df-ac03e835-f613-4089-a952-074d4afb34bc');\n",
              "          const dataTable =\n",
              "            await google.colab.kernel.invokeFunction('convertToInteractive',\n",
              "                                                     [key], {});\n",
              "          if (!dataTable) return;\n",
              "\n",
              "          const docLinkHtml = 'Like what you see? Visit the ' +\n",
              "            '<a target=\"_blank\" href=https://colab.research.google.com/notebooks/data_table.ipynb>data table notebook</a>'\n",
              "            + ' to learn more about interactive tables.';\n",
              "          element.innerHTML = '';\n",
              "          dataTable['output_type'] = 'display_data';\n",
              "          await google.colab.output.renderOutput(dataTable, element);\n",
              "          const docLink = document.createElement('div');\n",
              "          docLink.innerHTML = docLinkHtml;\n",
              "          element.appendChild(docLink);\n",
              "        }\n",
              "      </script>\n",
              "    </div>\n",
              "  </div>\n",
              "  "
            ]
          },
          "metadata": {},
          "execution_count": 26
        }
      ]
    },
    {
      "cell_type": "code",
      "source": [
        "def find_similar_movies(movie_id):\n",
        "    similar_users = ratings[(ratings[\"movieId\"] == movie_id) & (ratings[\"rating\"] > 4)][\"userId\"].unique()\n",
        "    similar_user_recs = ratings[(ratings[\"userId\"].isin(similar_users)) & (ratings[\"rating\"] > 4)][\"movieId\"]\n",
        "    similar_user_recs = similar_user_recs.value_counts() / len(similar_users)\n",
        "\n",
        "    similar_user_recs = similar_user_recs[similar_user_recs > .10]\n",
        "    all_users = ratings[(ratings[\"movieId\"].isin(similar_user_recs.index)) & (ratings[\"rating\"] > 4)]\n",
        "    all_user_recs = all_users[\"movieId\"].value_counts() / len(all_users[\"userId\"].unique())\n",
        "    rec_percentages = pd.concat([similar_user_recs, all_user_recs], axis=1)\n",
        "    rec_percentages.columns = [\"similar\", \"all\"]\n",
        "    \n",
        "    rec_percentages[\"score\"] = rec_percentages[\"similar\"] / rec_percentages[\"all\"]\n",
        "    rec_percentages = rec_percentages.sort_values(\"score\", ascending=False)\n",
        "    return rec_percentages.head(10).merge(movies, left_index=True, right_on=\"movieId\")[[\"score\", \"title\", \"genres\"]]"
      ],
      "metadata": {
        "id": "uqQjOle8pahQ"
      },
      "execution_count": 27,
      "outputs": []
    },
    {
      "cell_type": "code",
      "source": [
        "import ipywidgets as widgets\n",
        "from IPython.display import display\n",
        "\n",
        "movie_name_input = widgets.Text(\n",
        "    value='Toy Story',\n",
        "    description='Movie Title:',\n",
        "    disabled=False\n",
        ")\n",
        "recommendation_list = widgets.Output()\n",
        "\n",
        "def on_type(data):\n",
        "    with recommendation_list:\n",
        "        recommendation_list.clear_output()\n",
        "        title = data[\"new\"]\n",
        "        if len(title) > 5:\n",
        "            results = search(title)\n",
        "            movie_id = results.iloc[0][\"movieId\"]\n",
        "            display(find_similar_movies(movie_id))\n",
        "\n",
        "movie_name_input.observe(on_type, names='value')\n",
        "\n",
        "display(movie_name_input, recommendation_list)"
      ],
      "metadata": {
        "colab": {
          "base_uri": "https://localhost:8080/",
          "height": 395,
          "referenced_widgets": [
            "4669302635dd4fad881f54296ed3b561",
            "986769552f5342e8abfc7ecb9a69a173",
            "6f235cfbc4ae4f099310f281965a2aca",
            "97326311f497485a822b51182fe9f106",
            "e08d061ad77c4d189c05657086d96493"
          ]
        },
        "id": "Nq_ie4N5pdXy",
        "outputId": "fbe10e36-914c-49b1-a1a3-501ec958dad5"
      },
      "execution_count": 28,
      "outputs": [
        {
          "output_type": "display_data",
          "data": {
            "text/plain": [
              "Text(value='Toy Story', description='Movie Title:')"
            ],
            "application/vnd.jupyter.widget-view+json": {
              "version_major": 2,
              "version_minor": 0,
              "model_id": "4669302635dd4fad881f54296ed3b561"
            }
          },
          "metadata": {}
        },
        {
          "output_type": "display_data",
          "data": {
            "text/plain": [
              "Output()"
            ],
            "application/vnd.jupyter.widget-view+json": {
              "version_major": 2,
              "version_minor": 0,
              "model_id": "97326311f497485a822b51182fe9f106"
            }
          },
          "metadata": {}
        }
      ]
    }
  ]
}